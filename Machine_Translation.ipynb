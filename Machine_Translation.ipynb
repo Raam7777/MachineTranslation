{
  "nbformat": 4,
  "nbformat_minor": 0,
  "metadata": {
    "colab": {
      "name": "Machine_Translation.ipynb",
      "provenance": [],
      "authorship_tag": "ABX9TyO6tzfwmoXIh/x4ND+h24wx",
      "include_colab_link": true
    },
    "kernelspec": {
      "name": "python3",
      "display_name": "Python 3"
    },
    "language_info": {
      "name": "python"
    }
  },
  "cells": [
    {
      "cell_type": "markdown",
      "metadata": {
        "id": "view-in-github",
        "colab_type": "text"
      },
      "source": [
        "<a href=\"https://colab.research.google.com/github/Raam7777/MachineTranslation/blob/main/Machine_Translation.ipynb\" target=\"_parent\"><img src=\"https://colab.research.google.com/assets/colab-badge.svg\" alt=\"Open In Colab\"/></a>"
      ]
    },
    {
      "cell_type": "markdown",
      "metadata": {
        "id": "1dGHM1XIyWYB"
      },
      "source": [
        "**connect to GPU**\n",
        "\n",
        "Runtime -> change runtime type -> GPU -> save."
      ]
    },
    {
      "cell_type": "markdown",
      "metadata": {
        "id": "qNZQ9xIswhOI"
      },
      "source": [
        "**clone** Github.\n",
        "activation of the folder by name Machine_Translation"
      ]
    },
    {
      "cell_type": "code",
      "metadata": {
        "id": "-BAhn19MwvDJ"
      },
      "source": [
        "!git clone https://github.com/MoranOshia/Machine_Translation\n",
        "%cd Machine_Translation"
      ],
      "execution_count": null,
      "outputs": []
    },
    {
      "cell_type": "markdown",
      "metadata": {
        "id": "aXEEuxfty3wk"
      },
      "source": [
        "Install requirements: Installs versions of torch and numpy"
      ]
    },
    {
      "cell_type": "code",
      "metadata": {
        "id": "2nr0318oy4zS"
      },
      "source": [
        "!pip install -r requirements.txt"
      ],
      "execution_count": null,
      "outputs": []
    },
    {
      "cell_type": "markdown",
      "metadata": {
        "id": "1VSFgt5Ty5ph"
      },
      "source": [
        "Activating Python code"
      ]
    },
    {
      "cell_type": "code",
      "metadata": {
        "id": "vJQK5atSy52h"
      },
      "source": [
        "!python [COPY PATH]"
      ],
      "execution_count": null,
      "outputs": []
    }
  ]
}